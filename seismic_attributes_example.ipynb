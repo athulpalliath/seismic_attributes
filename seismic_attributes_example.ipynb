{
 "cells": [
  {
   "cell_type": "markdown",
   "metadata": {},
   "source": [
    "## Seismic Attributes Example Usage"
   ]
  },
  {
   "cell_type": "markdown",
   "metadata": {},
   "source": [
    "#### Example code to produce figures shown in this documentation"
   ]
  },
  {
   "cell_type": "markdown",
   "metadata": {},
   "source": [
    "Download a single day of data in all three components of the broad-band channel at Ilulissat, Greenland (Network, DK; Station code, ILULI) from the start of 2018; by default data will be downloaded on the preceding and subsequent day to provide a one hour buffer for event detection."
   ]
  },
  {
   "cell_type": "code",
   "execution_count": null,
   "metadata": {},
   "outputs": [],
   "source": [
    "from seismic_attributes import seismic_attributes as sa\n",
    "t1 = sa.UTCDateTime(\"2018-01-01T00:00:00.0Z\")\n",
    "t2 = sa.UTCDateTime(\"2018-01-02T00:00:00.0Z\")\n",
    "stream = sa.get_waveforms('DK', 'ILULI', '', ['BHE', 'BHN', 'BHZ'], t1, t2)"
   ]
  },
  {
   "cell_type": "markdown",
   "metadata": {},
   "source": [
    "Detect events using the recursive STA/LTA algorithm based on the Euclidean norm (amplitude) of the seismic waveform; standard values are chosen for each parameter. Events separated by less than 5 seconds are joined together. Additional seismometers are included by passing in an obspy Stream object with waveforms from multiple seismometers; e.g. stream = stream1 + stream2 + stream3. The output pandas DataFrame for the event and trace catalogues are written to .csv files for later use."
   ]
  },
  {
   "cell_type": "code",
   "execution_count": null,
   "metadata": {},
   "outputs": [],
   "source": [
    "events = sa.get_events(stream, t1, t2, trigger_type='recstalta', sta=1, lta=1000, thr_on=3, thr_off=1, thr_event_join=5)\n",
    "events[0].to_csv('event_catalogue.csv')\n",
    "events[1].to_csv('trace_catalogue.csv')"
   ]
  },
  {
   "cell_type": "markdown",
   "metadata": {},
   "source": [
    "Plot (Euclidean norm) waveform data for Ilulissat and highlight identified events. The event catalogue is used by default if the tuple containing both catalogues is passed as an input. The expected output is shown in Figure 1; the plot will be saved as ‘ILULI_event_plot.pdf’ in the working directory."
   ]
  },
  {
   "cell_type": "code",
   "execution_count": null,
   "metadata": {},
   "outputs": [],
   "source": [
    "sa.plot_events(events, stream, t1, t2)"
   ]
  },
  {
   "cell_type": "markdown",
   "metadata": {},
   "source": [
    "Plot the waveform data as the three components of the signal for the event at 02:54:46 UTC on 1 January 2018. The trace catalogue is used by default if the tuple containing both catalogues is passed as an input. Waveform data are plotted from 30 seconds prior to the start of the event up to 60 seconds after the end of the record. The expected output is shown in Figure 2; the plot will be saved as ‘20180101T025446Z_plot.pdf’ in the working directory."
   ]
  },
  {
   "cell_type": "code",
   "execution_count": null,
   "metadata": {},
   "outputs": [],
   "source": [
    "sa.plot_waveforms(events, '20180101T025446Z', start_buffer=30, end_buffer=60)"
   ]
  },
  {
   "cell_type": "markdown",
   "metadata": {},
   "source": [
    "Calculate all the spectral and polarity attributes in the seismic attributes library for each event included in the event catalogue. The output pandas DataFrame is written to a .csv file for later use."
   ]
  },
  {
   "cell_type": "code",
   "execution_count": null,
   "metadata": {},
   "outputs": [],
   "source": [
    "attributes = sa.get_attributes(events, stream, sa.spectral_attributes, sa.polarity_attributes)\n",
    "attributes.to_csv('attribute_catalogue.csv')"
   ]
  },
  {
   "cell_type": "markdown",
   "metadata": {},
   "source": [
    "Plot a box-and-whisker diagram of distribution of values for each requested attribute over the events in the catalogue. The expected output is shown in Figure 3; the plot will be saved as ‘attribute_plot.pdf’ in the working directory."
   ]
  },
  {
   "cell_type": "code",
   "execution_count": null,
   "metadata": {},
   "outputs": [],
   "source": [
    "sa.plot_attributes(attributes)"
   ]
  },
  {
   "cell_type": "markdown",
   "metadata": {},
   "source": [
    "Plot the correlation matrix for the attributes derived for the event catalogue. The optional plot_type input is set to ’corner’ to produce a corner plot. The expected output is shown in Figure 4; the plot will be saved as ‘correlation_matrix.pdf’ in the working directory."
   ]
  },
  {
   "cell_type": "code",
   "execution_count": null,
   "metadata": {},
   "outputs": [],
   "source": [
    "sa.plot_correlations(attributes)"
   ]
  },
  {
   "cell_type": "markdown",
   "metadata": {},
   "source": [
    "#### Example code to produce figures shown in Turner et al. (2021, in review)"
   ]
  },
  {
   "cell_type": "markdown",
   "metadata": {},
   "source": [
    "The corner (or pair) plot in Figure 3 (of publication above) uses the attribute catalogue for the events detected at Ilulissat, Greenland on 1 January 2018 (as above), though only for the spectral attributes. The get_attributes function therefore needs to be run again (after the above code) followed by the additional line of code to produce the plot. That is,"
   ]
  },
  {
   "cell_type": "code",
   "execution_count": null,
   "metadata": {},
   "outputs": [],
   "source": [
    "attributes = sa.get_attributes(events, stream, sa.spectral_attributes)\n",
    "sa.plot_correlations(attributes, plot_type='corner')"
   ]
  },
  {
   "cell_type": "markdown",
   "metadata": {},
   "source": [
    "The waveform plot in Figure 2 (of publication above) uses the trace (metadata) catalogue for four seismometers on the Whillans Ice Stream in Antarctica from 13:35:37 on 16 December 2010. This dataset needs to be downloaded and the event catalogue created before the plot can be produced. We require a minimum of three of the four seismometers to have simultaneous detections for an event to be identified (thr_coincidence_trigger = 3). The full code is shown below:"
   ]
  },
  {
   "cell_type": "code",
   "execution_count": null,
   "metadata": {},
   "outputs": [],
   "source": [
    "from seismic_attributes import seismic_attributes as sa\n",
    "t1 = sa.UTCDateTime(\"2010-12-16T01:00:00.0Z\")\n",
    "t2 = sa.UTCDateTime(\"2010-12-18T00:00:00.0Z\")\n",
    "stream1 = sa.get_waveforms('2C', 'BB01', '', ['HHE', 'HHN', 'HHZ'], t1, t2)\n",
    "stream3 = sa.get_waveforms('2C', 'BB03', '', ['HHE', 'HHN', 'HHZ'], t1, t2)\n",
    "stream4 = sa.get_waveforms('2C', 'BB04', '', ['HHE', 'HHN', 'HHZ'], t1, t2)\n",
    "stream6 = sa.get_waveforms('2C', 'BB06', '', ['HHE', 'HHN', 'HHZ'], t1, t2)"
   ]
  },
  {
   "cell_type": "code",
   "execution_count": null,
   "metadata": {},
   "outputs": [],
   "source": [
    "events = sa.get_events(stream1+stream3+stream4+stream6, t1, t2, trigger_type='multistalta', sta=0.03, lta=100, delta_sta=18, delta_lta=56, epsilon=10, avg_wave_speed=2, thr_event_join=10, thr_coincidence_sum=3)\n",
    "events[1].to_csv('whillians_traces.csv')"
   ]
  },
  {
   "cell_type": "code",
   "execution_count": null,
   "metadata": {},
   "outputs": [],
   "source": [
    "sa.plot_waveforms(events, '20101216T133748Z')"
   ]
  },
  {
   "cell_type": "code",
   "execution_count": null,
   "metadata": {},
   "outputs": [],
   "source": []
  }
 ],
 "metadata": {
  "kernelspec": {
   "display_name": "Python 3",
   "language": "python",
   "name": "python3"
  },
  "language_info": {
   "codemirror_mode": {
    "name": "ipython",
    "version": 3
   },
   "file_extension": ".py",
   "mimetype": "text/x-python",
   "name": "python",
   "nbconvert_exporter": "python",
   "pygments_lexer": "ipython3",
   "version": "3.8.5"
  }
 },
 "nbformat": 4,
 "nbformat_minor": 4
}
